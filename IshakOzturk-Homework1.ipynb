{
 "cells": [
  {
   "cell_type": "code",
   "execution_count": 13,
   "metadata": {},
   "outputs": [
    {
     "name": "stdout",
     "output_type": "stream",
     "text": [
      "bir a değeri giriniz: 1\n",
      "bir b değeri giriniz: -6\n",
      "bir c değeri giriniz: 9\n",
      "    Bu denklemin kökleri:    \n"
     ]
    },
    {
     "data": {
      "text/plain": [
       "(3.0, 3.0)"
      ]
     },
     "execution_count": 13,
     "metadata": {},
     "output_type": "execute_result"
    }
   ],
   "source": [
    "#Denklem ax²+bx+c=0 şeklinde olsun;\n",
    "a = float(input('bir a değeri giriniz: '))\n",
    "b = float(input('bir b değeri giriniz: '))\n",
    "c = float(input('bir c değeri giriniz: '))\n",
    "print('    Bu denklemin kökleri:    ')\n",
    "Δ = b**2-4*a*c\n",
    "x1 = (-b+Δ**0.5)/(2*a)\n",
    "x2 = (-b-Δ**0.5)/(2*a) \n",
    "x1, x2\n"
   ]
  },
  {
   "cell_type": "code",
   "execution_count": 12,
   "metadata": {},
   "outputs": [
    {
     "name": "stdout",
     "output_type": "stream",
     "text": [
      "bir a değeri giriniz: 1\n",
      "bir b değeri giriniz: -3\n",
      "bir c değeri giriniz: 2\n",
      "    Bu denklemin kökleri:    \n"
     ]
    },
    {
     "data": {
      "text/plain": [
       "(2.0, 1.0)"
      ]
     },
     "execution_count": 12,
     "metadata": {},
     "output_type": "execute_result"
    }
   ],
   "source": [
    "#Denklem ax²+bx+c=0 şeklinde olsun;\n",
    "a = float(input('bir a değeri giriniz: '))\n",
    "b = float(input('bir b değeri giriniz: '))\n",
    "c = float(input('bir c değeri giriniz: '))\n",
    "print('    Bu denklemin kökleri:    ')\n",
    "Δ = b**2-4*a*c\n",
    "x1 = (-b+Δ**0.5)/(2*a)\n",
    "x2 = (-b-Δ**0.5)/(2*a) \n",
    "x1, x2"
   ]
  },
  {
   "cell_type": "code",
   "execution_count": null,
   "metadata": {},
   "outputs": [],
   "source": []
  }
 ],
 "metadata": {
  "kernelspec": {
   "display_name": "Python 3",
   "language": "python",
   "name": "python3"
  },
  "language_info": {
   "codemirror_mode": {
    "name": "ipython",
    "version": 3
   },
   "file_extension": ".py",
   "mimetype": "text/x-python",
   "name": "python",
   "nbconvert_exporter": "python",
   "pygments_lexer": "ipython3",
   "version": "3.7.4"
  }
 },
 "nbformat": 4,
 "nbformat_minor": 2
}
