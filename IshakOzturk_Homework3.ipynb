{
 "cells": [
  {
   "cell_type": "code",
   "execution_count": null,
   "metadata": {},
   "outputs": [],
   "source": [
    "a = float(input(\"Lütfen 1, 2, 3 sayılarından birini giriniz:  \"))\n",
    "if a == 1:\n",
    "    print(\"Lütfen hipotenüsün hesaplanabilmesi için iki kenar uzunluğu veriniz.\")\n",
    "    \n",
    "    bir = float(input(\"Birinci kenarın uzunluğunu giriniz: \"))\n",
    "    iki = float(input(\"İkinci kenarın uzunluğunu giriniz: \"))\n",
    "    Hipotenüs = (bir ** 2 + iki ** 2) ** 0.5\n",
    "    print('Hipotenüs uzunluğu: ', Hipotenüs , '\\n') \n",
    "elif a == 2:\n",
    "        \n",
    "    print(\"1'den itibaren seçtiğiniz sayıya kadar yazdırılacaktır\")\n",
    "\n",
    "    sayı = float(input(\"Lütfen bir sayı seçiniz: \"))\n",
    "    i = 1\n",
    "    print(\"1'den seçtiğiniz sayıya kadar tüm doğal sayılar: \")\n",
    "    while i <= sayı:\n",
    "            print (i,'')\n",
    "            i = i + 1 \n",
    "            \n",
    "elif a == 3: \n",
    "    print(\"Seçtiğiniz 6 değerin aritmetik ortalaması hesaplanacaktır.\")\n",
    "    d1 = float(input(\"Birinci değeri seçiniz:\"))\n",
    "    d2 =      float(input(\"İkinci değeri seçiniz:\"))\n",
    "    d3 =    float(input(\"Üçüncü değeri seçiniz:\"))\n",
    "    d4 =      float(input(\"Dördüncü değeri seçiniz:\"))\n",
    "    d5 =     float(input(\"Beşinci değeri seçiniz:\"))\n",
    "    d6 =    float(input(\"Altıncı değeri seçiniz:\"))\n",
    "    AritmetikO = (d1+d2+d3+d4+d5+d6)/6\n",
    "    print('Aritmetik Ortalama: ' , AritmetikO , '\\n')\n",
    "            \n",
    "else:\n",
    "    print(\"Hata! Lütfen 1, 2, 3 sayılarından birini seçiniz.\")"
   ]
  },
  {
   "cell_type": "code",
   "execution_count": null,
   "metadata": {},
   "outputs": [],
   "source": []
  }
 ],
 "metadata": {
  "kernelspec": {
   "display_name": "Python 3",
   "language": "python",
   "name": "python3"
  },
  "language_info": {
   "codemirror_mode": {
    "name": "ipython",
    "version": 3
   },
   "file_extension": ".py",
   "mimetype": "text/x-python",
   "name": "python",
   "nbconvert_exporter": "python",
   "pygments_lexer": "ipython3",
   "version": "3.7.4"
  }
 },
 "nbformat": 4,
 "nbformat_minor": 2
}
